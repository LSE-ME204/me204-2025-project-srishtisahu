{
 "cells": [
  {
   "cell_type": "markdown",
   "id": "93a77adc",
   "metadata": {},
   "source": [
    "# Data Processing\n",
    "### Goal: Transform raw data into a relational SQLite database with at least two linked tables\n",
    "\n",
    "##### *Author - Srishti sahu*"
   ]
  },
  {
   "cell_type": "markdown",
   "id": "6ed1e4ca",
   "metadata": {},
   "source": [
    "s1 - imports"
   ]
  },
  {
   "cell_type": "code",
   "execution_count": 7,
   "id": "3191e1e1",
   "metadata": {},
   "outputs": [],
   "source": [
    "import pandas as pd\n",
    "import sqlite3\n",
    "from pathlib import Path"
   ]
  },
  {
   "cell_type": "markdown",
   "id": "967461c9",
   "metadata": {},
   "source": [
    "s2 - loading the data"
   ]
  },
  {
   "cell_type": "code",
   "execution_count": 9,
   "id": "86151103",
   "metadata": {},
   "outputs": [],
   "source": [
    "raw_path = Path(\"../data/raw.csv\")\n",
    "df_raw = pd.read_csv(raw_path)"
   ]
  },
  {
   "cell_type": "markdown",
   "id": "8842a419",
   "metadata": {},
   "source": [
    "s3 - cleaning and renaming"
   ]
  },
  {
   "cell_type": "code",
   "execution_count": 10,
   "id": "22b71d3c",
   "metadata": {},
   "outputs": [],
   "source": [
    "df_cleaned = df_raw.drop(columns=[\"Unnamed: 0\", \"Unnamed: 7\", \"Unnamed: 8\"])\n",
    "df_cleaned.columns = [\"artist\", \"painting_name\", \"colour_code\", \"brightness\", \"size_code\", \"people_near\"]"
   ]
  },
  {
   "cell_type": "markdown",
   "id": "a900a2d1",
   "metadata": {},
   "source": [
    "s4 - adding a unique painting id"
   ]
  },
  {
   "cell_type": "code",
   "execution_count": 11,
   "id": "fd89b886",
   "metadata": {},
   "outputs": [],
   "source": [
    "df_cleaned.insert(0, \"painting_id\", range(1, len(df_cleaned) + 1))"
   ]
  },
  {
   "cell_type": "markdown",
   "id": "9585c78b",
   "metadata": {},
   "source": [
    "s5 - lookup table for attributes"
   ]
  },
  {
   "cell_type": "code",
   "execution_count": 12,
   "id": "25dd2e47",
   "metadata": {},
   "outputs": [],
   "source": [
    "attribute_entries = [\n",
    "    # Size codes\n",
    "    (\"Size\", \"S\", \"Small\"),\n",
    "    (\"Size\", \"M\", \"Medium\"),\n",
    "    (\"Size\", \"L\", \"Large\"),\n",
    "    # Use of Colour codes\n",
    "    (\"Use of Colour\", \"L\", \"Low\"),\n",
    "    (\"Use of Colour\", \"M\", \"Medium\"),\n",
    "    (\"Use of Colour\", \"H\", \"High\"),\n",
    "]\n",
    "\n",
    "df_attributes = pd.DataFrame(attribute_entries, columns=[\"attribute_type\", \"code\", \"description\"])"
   ]
  },
  {
   "cell_type": "markdown",
   "id": "6cf87d07",
   "metadata": {},
   "source": [
    "s6 - SQLite DB with explicit schema"
   ]
  },
  {
   "cell_type": "code",
   "execution_count": 13,
   "id": "3c02b2a5",
   "metadata": {},
   "outputs": [],
   "source": [
    "db_path = Path(\"../data/database.db\")\n",
    "conn = sqlite3.connect(db_path)\n",
    "cursor = conn.cursor()"
   ]
  },
  {
   "cell_type": "markdown",
   "id": "03ce7e27",
   "metadata": {},
   "source": [
    "s7 - creating the table"
   ]
  },
  {
   "cell_type": "code",
   "execution_count": 15,
   "id": "b82f45a0",
   "metadata": {},
   "outputs": [
    {
     "data": {
      "text/plain": [
       "<sqlite3.Cursor at 0x7fd0f6c734c0>"
      ]
     },
     "execution_count": 15,
     "metadata": {},
     "output_type": "execute_result"
    }
   ],
   "source": [
    "cursor.execute(\"DROP TABLE IF EXISTS paintings;\")\n",
    "cursor.execute(\"DROP TABLE IF EXISTS attributes;\")\n",
    "\n",
    "cursor.execute(\"\"\"\n",
    "CREATE TABLE paintings (\n",
    "    painting_id INTEGER PRIMARY KEY,\n",
    "    artist TEXT,\n",
    "    painting_name TEXT,\n",
    "    colour_code TEXT,\n",
    "    brightness TEXT,\n",
    "    size_code TEXT,\n",
    "    people_near INTEGER\n",
    ");\n",
    "\"\"\")"
   ]
  },
  {
   "cell_type": "markdown",
   "id": "ec28f3cd",
   "metadata": {},
   "source": [
    "s8 - attributes table"
   ]
  },
  {
   "cell_type": "code",
   "execution_count": 16,
   "id": "3c97d646",
   "metadata": {},
   "outputs": [
    {
     "data": {
      "text/plain": [
       "<sqlite3.Cursor at 0x7fd0f6c734c0>"
      ]
     },
     "execution_count": 16,
     "metadata": {},
     "output_type": "execute_result"
    }
   ],
   "source": [
    "cursor.execute(\"\"\"\n",
    "CREATE TABLE attributes (\n",
    "    attribute_type TEXT,\n",
    "    code TEXT,\n",
    "    description TEXT,\n",
    "    PRIMARY KEY (attribute_type, code)\n",
    ");\n",
    "\"\"\")"
   ]
  },
  {
   "cell_type": "markdown",
   "id": "3affe5d0",
   "metadata": {},
   "source": [
    "s9 - populating"
   ]
  },
  {
   "cell_type": "code",
   "execution_count": 17,
   "id": "4a8bffa0",
   "metadata": {},
   "outputs": [],
   "source": [
    "df_cleaned.to_sql(\"paintings\", conn, if_exists=\"append\", index=False)\n",
    "df_attributes.to_sql(\"attributes\", conn, if_exists=\"append\", index=False)\n",
    "\n",
    "conn.commit()\n",
    "conn.close()"
   ]
  },
  {
   "cell_type": "markdown",
   "id": "4fd7630d",
   "metadata": {},
   "source": [
    "s10 - preview "
   ]
  },
  {
   "cell_type": "code",
   "execution_count": 19,
   "id": "8e5c5d19",
   "metadata": {},
   "outputs": [
    {
     "name": "stdout",
     "output_type": "stream",
     "text": [
      "✅ Database with schema created at: ../data/database.db\n"
     ]
    },
    {
     "data": {
      "text/html": [
       "<div>\n",
       "<style scoped>\n",
       "    .dataframe tbody tr th:only-of-type {\n",
       "        vertical-align: middle;\n",
       "    }\n",
       "\n",
       "    .dataframe tbody tr th {\n",
       "        vertical-align: top;\n",
       "    }\n",
       "\n",
       "    .dataframe thead th {\n",
       "        text-align: right;\n",
       "    }\n",
       "</style>\n",
       "<table border=\"1\" class=\"dataframe\">\n",
       "  <thead>\n",
       "    <tr style=\"text-align: right;\">\n",
       "      <th></th>\n",
       "      <th>painting_id</th>\n",
       "      <th>artist</th>\n",
       "      <th>painting_name</th>\n",
       "      <th>colour_code</th>\n",
       "      <th>brightness</th>\n",
       "      <th>size_code</th>\n",
       "      <th>people_near</th>\n",
       "    </tr>\n",
       "  </thead>\n",
       "  <tbody>\n",
       "    <tr>\n",
       "      <th>0</th>\n",
       "      <td>1</td>\n",
       "      <td>Paolo veronese</td>\n",
       "      <td>Scorn</td>\n",
       "      <td>M</td>\n",
       "      <td>Dull</td>\n",
       "      <td>L</td>\n",
       "      <td>1</td>\n",
       "    </tr>\n",
       "    <tr>\n",
       "      <th>1</th>\n",
       "      <td>2</td>\n",
       "      <td>Paris Bordone</td>\n",
       "      <td>A pair of lovers</td>\n",
       "      <td>M</td>\n",
       "      <td>Bright</td>\n",
       "      <td>M</td>\n",
       "      <td>1</td>\n",
       "    </tr>\n",
       "    <tr>\n",
       "      <th>2</th>\n",
       "      <td>3</td>\n",
       "      <td>Paolo veronese</td>\n",
       "      <td>The family of Darius before Alexander</td>\n",
       "      <td>H</td>\n",
       "      <td>Moderate</td>\n",
       "      <td>L</td>\n",
       "      <td>5</td>\n",
       "    </tr>\n",
       "    <tr>\n",
       "      <th>3</th>\n",
       "      <td>4</td>\n",
       "      <td>Jacopo Tintoretto</td>\n",
       "      <td>The origin of Milky Way</td>\n",
       "      <td>H</td>\n",
       "      <td>Bright</td>\n",
       "      <td>L</td>\n",
       "      <td>3</td>\n",
       "    </tr>\n",
       "    <tr>\n",
       "      <th>4</th>\n",
       "      <td>5</td>\n",
       "      <td>Jacopo Tintoretto</td>\n",
       "      <td>Saint George and the dragon</td>\n",
       "      <td>H</td>\n",
       "      <td>Moderate</td>\n",
       "      <td>M</td>\n",
       "      <td>2</td>\n",
       "    </tr>\n",
       "  </tbody>\n",
       "</table>\n",
       "</div>"
      ],
      "text/plain": [
       "   painting_id             artist                          painting_name  \\\n",
       "0            1     Paolo veronese                                  Scorn   \n",
       "1            2      Paris Bordone                       A pair of lovers   \n",
       "2            3     Paolo veronese  The family of Darius before Alexander   \n",
       "3            4  Jacopo Tintoretto                The origin of Milky Way   \n",
       "4            5  Jacopo Tintoretto            Saint George and the dragon   \n",
       "\n",
       "  colour_code brightness size_code  people_near  \n",
       "0           M       Dull         L            1  \n",
       "1           M     Bright         M            1  \n",
       "2           H   Moderate         L            5  \n",
       "3           H     Bright         L            3  \n",
       "4           H   Moderate         M            2  "
      ]
     },
     "metadata": {},
     "output_type": "display_data"
    },
    {
     "data": {
      "text/html": [
       "<div>\n",
       "<style scoped>\n",
       "    .dataframe tbody tr th:only-of-type {\n",
       "        vertical-align: middle;\n",
       "    }\n",
       "\n",
       "    .dataframe tbody tr th {\n",
       "        vertical-align: top;\n",
       "    }\n",
       "\n",
       "    .dataframe thead th {\n",
       "        text-align: right;\n",
       "    }\n",
       "</style>\n",
       "<table border=\"1\" class=\"dataframe\">\n",
       "  <thead>\n",
       "    <tr style=\"text-align: right;\">\n",
       "      <th></th>\n",
       "      <th>attribute_type</th>\n",
       "      <th>code</th>\n",
       "      <th>description</th>\n",
       "    </tr>\n",
       "  </thead>\n",
       "  <tbody>\n",
       "    <tr>\n",
       "      <th>0</th>\n",
       "      <td>Size</td>\n",
       "      <td>S</td>\n",
       "      <td>Small</td>\n",
       "    </tr>\n",
       "    <tr>\n",
       "      <th>1</th>\n",
       "      <td>Size</td>\n",
       "      <td>M</td>\n",
       "      <td>Medium</td>\n",
       "    </tr>\n",
       "    <tr>\n",
       "      <th>2</th>\n",
       "      <td>Size</td>\n",
       "      <td>L</td>\n",
       "      <td>Large</td>\n",
       "    </tr>\n",
       "    <tr>\n",
       "      <th>3</th>\n",
       "      <td>Use of Colour</td>\n",
       "      <td>L</td>\n",
       "      <td>Low</td>\n",
       "    </tr>\n",
       "    <tr>\n",
       "      <th>4</th>\n",
       "      <td>Use of Colour</td>\n",
       "      <td>M</td>\n",
       "      <td>Medium</td>\n",
       "    </tr>\n",
       "    <tr>\n",
       "      <th>5</th>\n",
       "      <td>Use of Colour</td>\n",
       "      <td>H</td>\n",
       "      <td>High</td>\n",
       "    </tr>\n",
       "  </tbody>\n",
       "</table>\n",
       "</div>"
      ],
      "text/plain": [
       "  attribute_type code description\n",
       "0           Size    S       Small\n",
       "1           Size    M      Medium\n",
       "2           Size    L       Large\n",
       "3  Use of Colour    L         Low\n",
       "4  Use of Colour    M      Medium\n",
       "5  Use of Colour    H        High"
      ]
     },
     "metadata": {},
     "output_type": "display_data"
    }
   ],
   "source": [
    "print(\"✅ Database with schema created at:\", db_path)\n",
    "display(df_cleaned.head())\n",
    "display(df_attributes)"
   ]
  }
 ],
 "metadata": {
  "kernelspec": {
   "display_name": "base",
   "language": "python",
   "name": "python3"
  },
  "language_info": {
   "codemirror_mode": {
    "name": "ipython",
    "version": 3
   },
   "file_extension": ".py",
   "mimetype": "text/x-python",
   "name": "python",
   "nbconvert_exporter": "python",
   "pygments_lexer": "ipython3",
   "version": "3.12.10"
  }
 },
 "nbformat": 4,
 "nbformat_minor": 5
}
