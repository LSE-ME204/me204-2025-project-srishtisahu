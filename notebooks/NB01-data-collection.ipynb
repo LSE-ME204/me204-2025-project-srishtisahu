{
 "cells": [
  {
   "cell_type": "markdown",
   "id": "c7cac8e1",
   "metadata": {},
   "source": [
    "# Collecting data from the National Gallery \n",
    "### (A long, fun, tiring and unusual thing to do at a museum)\n",
    "\n",
    "##### *Author - Srishti Sahu*"
   ]
  },
  {
   "cell_type": "markdown",
   "id": "64558393",
   "metadata": {},
   "source": [
    "\"Visit the National Gallery\", they say. And sure paintings are an amusing form of art. But after spending around 6 minutes looking at them, I realised that observing every single detail about them just wasn't for me! 😭 \n",
    "\n",
    "However, what I did find interesting enough was how many people those paintings genuinely attracted and I wondered what factors about it had the most impact. Consequently, after spending atleast 2 hours at the museum on a Friday afternoon, I observed and collected data that might make it make sense.\n",
    "\n",
    "A few visual aspects such as the colour pallete, brightness and size might be some of the most prominently impacting ones and hecnce, these are the factors I have taken into consideration for my analysis. A conflicting thought for me was if I should take the artist into account, but from what I observed, most people did not bother reading about the artist and the painting!"
   ]
  },
  {
   "cell_type": "markdown",
   "id": "a1930471",
   "metadata": {},
   "source": [
    "Proof of data collection:"
   ]
  },
  {
   "cell_type": "markdown",
   "id": "7f35bc31",
   "metadata": {},
   "source": [
    "![](./images/IMG_2141.png)"
   ]
  },
  {
   "cell_type": "markdown",
   "id": "c2bdbda4",
   "metadata": {},
   "source": [
    "![](./images/IMG_2142.png)"
   ]
  },
  {
   "cell_type": "markdown",
   "id": "12af7aa7",
   "metadata": {},
   "source": [
    "This image shows a visual comparison by size (just an example)"
   ]
  },
  {
   "cell_type": "markdown",
   "id": "9d541880",
   "metadata": {},
   "source": [
    "I recorded data manually and it is saved in 'raw.csv' in the data folder.\n",
    "\n",
    "p.s. I recorded the number of people stopping by a painting to observe it and not just the number of people walking past it!"
   ]
  }
 ],
 "metadata": {
  "language_info": {
   "name": "python"
  }
 },
 "nbformat": 4,
 "nbformat_minor": 5
}
